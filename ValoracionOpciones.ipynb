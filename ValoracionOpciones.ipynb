{
  "nbformat": 4,
  "nbformat_minor": 0,
  "metadata": {
    "colab": {
      "provenance": []
    },
    "kernelspec": {
      "name": "python3",
      "display_name": "Python 3"
    },
    "language_info": {
      "name": "python"
    }
  },
  "cells": [
    {
      "cell_type": "markdown",
      "source": [
        "Las siguientes funciones fueron creadas para valorar opciones por el método de Cox-Rubinstein (árboles binomiales), Montecarlo y Black-Scholes"
      ],
      "metadata": {
        "id": "3VKcKaIc3KjS"
      }
    },
    {
      "cell_type": "code",
      "source": [
        "#Librerias\n",
        "import math\n",
        "import numpy as np\n",
        "from scipy import stats\n",
        "import scipy.stats"
      ],
      "metadata": {
        "id": "YU6af7KrUjcu"
      },
      "execution_count": 1,
      "outputs": []
    },
    {
      "cell_type": "markdown",
      "source": [
        "###Funciones"
      ],
      "metadata": {
        "id": "TDlkN8dtEkFb"
      }
    },
    {
      "cell_type": "code",
      "source": [
        "#funcion arbol binomial call\n",
        "def call_arbinomial(So, Strike, r, vol, t, nodos):\n",
        "  #Calculo parametros\n",
        "  plazo_año = t/360\n",
        "  delta_t = plazo_año/nodos\n",
        "  u = np.exp(vol*np.sqrt(delta_t))\n",
        "  d = 1/u\n",
        "  p = (np.exp(r*delta_t)-d)/(u-d)\n",
        "  p_1 = 1- p\n",
        "  f_dto = np.exp(-r*delta_t)\n",
        "\n",
        "  #Arbol de precios\n",
        "\n",
        "  #Matriz inicial en cero\n",
        "  matriz_precios = np.zeros((nodos + 1, nodos +1))\n",
        "  #Precio Spot [1,1]\n",
        "  matriz_precios[0,0] = So\n",
        "  #Fila Up\n",
        "  for i in range(1, nodos + 1):\n",
        "    matriz_precios[0,i] = matriz_precios[0,i-1] * u\n",
        "  #Fila Down\n",
        "  for i in range(1, nodos + 1):\n",
        "    for j in range(i, nodos + 1):\n",
        "      matriz_precios[i,j] = matriz_precios[i-1,j-1] * d\n",
        "\n",
        "  #Arbol de Payoff\n",
        "  #matriz en ceros\n",
        "  matriz_payoff = np.zeros((nodos + 1, nodos +1))\n",
        "  #payoff St\n",
        "  for i in range(nodos + 1):\n",
        "    matriz_payoff[i,-1] = max(matriz_precios[i,-1] - Strike, 0)\n",
        "\n",
        "  #Inducción hacia atras\n",
        "  for j in range(nodos-1, -1, -1):\n",
        "    for i in range(j+1):\n",
        "      matriz_payoff[i, j] = ((matriz_payoff[i, j + 1] * p) + (matriz_payoff[i + 1, j + 1] * p_1)) * f_dto\n",
        "\n",
        "  print(\"La prima de la opción es: \", matriz_payoff[0,0])"
      ],
      "metadata": {
        "id": "iLLuwj6XBzMF"
      },
      "execution_count": 2,
      "outputs": []
    },
    {
      "cell_type": "code",
      "source": [
        "#Put americana\n",
        "def put_arbinominal(So, Strike, r, vol, t, nodos):\n",
        "    #Cálculo de parámetros\n",
        "    plazo_año = t / 360\n",
        "    delta_t = plazo_año / nodos\n",
        "    u = np.exp(vol * np.sqrt(delta_t))\n",
        "    d = 1 / u\n",
        "    p = (np.exp(r * delta_t) - d) / (u - d)\n",
        "    p_1 = 1 - p\n",
        "    f_dto = np.exp(-r * delta_t)\n",
        "\n",
        "    #Arbol de precios\n",
        "    matriz_precios = np.zeros((nodos + 1, nodos + 1))\n",
        "    matriz_precios[0, 0] = So\n",
        "    for i in range(1, nodos + 1):\n",
        "        matriz_precios[0, i] = matriz_precios[0, i - 1] * u\n",
        "    for i in range(1, nodos + 1):\n",
        "        for j in range(i, nodos + 1):\n",
        "            matriz_precios[i, j] = matriz_precios[i - 1, j - 1] * d\n",
        "\n",
        "    #Arbol Payoff\n",
        "    matriz_payoff = np.zeros((nodos + 1, nodos + 1))\n",
        "    for j in range(nodos, -1, -1):\n",
        "        for i in range(j + 1):\n",
        "            matriz_payoff[i, j] = max(Strike - matriz_precios[i, j], 0)\n",
        "\n",
        "    #Arbol valoración\n",
        "    matriz_put = np.zeros((nodos + 1, nodos + 1))\n",
        "\n",
        "    #La última columna de matriz_put es el payoff de una put\n",
        "    for i in range(nodos + 1):\n",
        "        matriz_put[i, -1] = max(Strike - matriz_precios[i, -1], 0)\n",
        "\n",
        "    #Llenar matriz_put con inducción hacia atrás\n",
        "    for j in range(nodos - 1, -1, -1):\n",
        "        for i in range(j + 1):\n",
        "            matriz_put[i, j] = max(matriz_payoff[i, j], ((matriz_put[i, j + 1] * p) + (matriz_put[i + 1, j + 1] * p_1)) * f_dto)\n",
        "\n",
        "    print(\"La prima de la opción Put americana es: \", matriz_put[0, 0])"
      ],
      "metadata": {
        "id": "-etlmijxnAiy"
      },
      "execution_count": 22,
      "outputs": []
    },
    {
      "cell_type": "code",
      "source": [
        "def put_arbinomial_eur(So, Strike, r, vol, t, nodos):\n",
        "  #Calculo parametros\n",
        "  plazo_año = t/360\n",
        "  delta_t = plazo_año/nodos\n",
        "  u = np.exp(vol*np.sqrt(delta_t))\n",
        "  d = 1/u\n",
        "  p = (np.exp(r*delta_t)-d)/(u-d)\n",
        "  p_1 = 1- p\n",
        "  f_dto = np.exp(-r*delta_t)\n",
        "\n",
        "  #Arbol de precios\n",
        "\n",
        "  #Matriz inicial en cero\n",
        "  matriz_precios = np.zeros((nodos + 1, nodos +1))\n",
        "  #Precio Spot [1,1]\n",
        "  matriz_precios[0,0] = So\n",
        "  #Fila Up\n",
        "  for i in range(1, nodos + 1):\n",
        "    matriz_precios[0,i] = matriz_precios[0,i-1] * u\n",
        "  #Fila Down\n",
        "  for i in range(1, nodos + 1):\n",
        "    for j in range(i, nodos + 1):\n",
        "      matriz_precios[i,j] = matriz_precios[i-1,j-1] * d\n",
        "\n",
        "  #Arbol de Payoff\n",
        "  #matriz en ceros\n",
        "  matriz_payoff = np.zeros((nodos + 1, nodos +1))\n",
        "\n",
        "  #payoff put\n",
        "  for i in range(nodos + 1):\n",
        "    matriz_payoff[i,-1] = max(Strike - matriz_precios[i,-1], 0)\n",
        "\n",
        "  #Inducción hacia atras\n",
        "  for j in range(nodos-1, -1, -1):\n",
        "    for i in range(j+1):\n",
        "      matriz_payoff[i, j] = ((matriz_payoff[i, j + 1] * p) + (matriz_payoff[i + 1, j + 1] * p_1)) * f_dto\n",
        "\n",
        "  print(\"La prima de la opción es: \", matriz_payoff[0,0])"
      ],
      "metadata": {
        "id": "oCqCUP4jYo60"
      },
      "execution_count": 3,
      "outputs": []
    },
    {
      "cell_type": "code",
      "source": [
        "#función para valorar opciones usando Montecarlo\n",
        "def montecarlo(So, Strike, r, vol, t, n):\n",
        "  plazo_año = t/360\n",
        "  matriz_st = np.zeros(n)\n",
        "  matriz_payoff = np.zeros((n,2))\n",
        "\n",
        "  #Cálculo precio\n",
        "  for i in range(1, n):\n",
        "      St = So * np.exp((r - (vol**2) / 2) * plazo_año + vol * np.sqrt(plazo_año) * scipy.stats.norm.ppf(np.random.rand()))\n",
        "      matriz_st[i] = St\n",
        "\n",
        "      #Payoff Call\n",
        "      payoff_call = max(St - Strike, 0)\n",
        "      matriz_payoff[i, 0] = payoff_call\n",
        "\n",
        "      #Payoff Put\n",
        "      payoff_put = max(Strike - St, 0)\n",
        "      matriz_payoff[i, 1] = payoff_put\n",
        "\n",
        "  #Payoff en T\n",
        "  call_T = np.average(matriz_payoff[:,0])\n",
        "  put_T = np.average(matriz_payoff[:,1])\n",
        "\n",
        "  #Payoff en t\n",
        "  call_t = call_T * np.exp(-r*plazo_año)\n",
        "  put_t = put_T * np.exp(-r*plazo_año)\n",
        "\n",
        "  print(\"La prima de la opción Call es: \" + str(call_t) + \" y la prima de la opción Put es: \" + str(put_t))"
      ],
      "metadata": {
        "id": "WmEta_lmD7Gx"
      },
      "execution_count": 5,
      "outputs": []
    },
    {
      "cell_type": "code",
      "source": [
        "#Función de valoración via Black-Scholes\n",
        "def BlackScholes(So, Strike, r, vol, t):\n",
        "  plazo_año = t/365\n",
        "  d1 = (np.log(So/Strike) + (r + (vol**2)/2) * plazo_año)/(vol* np.sqrt(plazo_año))\n",
        "  d2 = (np.log(So/Strike) + (r - (vol**2)/2) * plazo_año)/(vol* np.sqrt(plazo_año))\n",
        "\n",
        "  #Call\n",
        "  call = np.exp(-r*plazo_año) * (So*stats.norm.cdf(d1)*np.exp(r*plazo_año) - Strike*stats.norm.cdf(d2))\n",
        "\n",
        "  #Put\n",
        "  put = np.exp(-r*plazo_año) * (Strike*stats.norm.cdf(-d2) - So*stats.norm.cdf(-d1)*np.exp(r*plazo_año))\n",
        "\n",
        "  print(\"La prima de la opción Call es: \" + str(call) + \" y la prima de la opción Put es: \" + str(put))"
      ],
      "metadata": {
        "id": "zsJY-ThzdRh9"
      },
      "execution_count": 6,
      "outputs": []
    },
    {
      "cell_type": "markdown",
      "source": [
        "Punto 1 | Call Europea"
      ],
      "metadata": {
        "id": "-OjnXgH4cM8y"
      }
    },
    {
      "cell_type": "code",
      "source": [
        "#Parametros iniciales\n",
        "So=float(input(\"Precio spot: \"))\n",
        "Strike=float(input(\"Precio strike: \"))\n",
        "r=float(input(\"Tasa de interes (continua): \"))\n",
        "vol=float(input(\"Volatilidad: \"))\n",
        "t=float(input(\"Tiempo (días): \"))\n",
        "nodos=int(input(\"Nodos: \"))"
      ],
      "metadata": {
        "colab": {
          "base_uri": "https://localhost:8080/"
        },
        "id": "K9u4PEVscLSF",
        "outputId": "2d9eaa20-8674-43f0-ab8c-9c3b8099d8ac"
      },
      "execution_count": 7,
      "outputs": [
        {
          "name": "stdout",
          "output_type": "stream",
          "text": [
            "Precio spot: 4000\n",
            "Precio strike: 4400\n",
            "Tasa de interes (continua): 0.065\n",
            "Volatilidad: 0.17\n",
            "Tiempo (días): 90\n",
            "Nodos: 12\n"
          ]
        }
      ]
    },
    {
      "cell_type": "code",
      "source": [
        "call_arbinomial(So, Strike, r, vol, t, nodos)"
      ],
      "metadata": {
        "colab": {
          "base_uri": "https://localhost:8080/"
        },
        "id": "sKcyl83aB398",
        "outputId": "80cc859b-1888-49b7-d3c7-fc710897368e"
      },
      "execution_count": 8,
      "outputs": [
        {
          "output_type": "stream",
          "name": "stdout",
          "text": [
            "La prima de la opción es:  31.45095252891365\n"
          ]
        }
      ]
    },
    {
      "cell_type": "code",
      "source": [
        "montecarlo(So, Strike, r, vol, t, 150000)"
      ],
      "metadata": {
        "id": "nt9yB61_G4GI",
        "colab": {
          "base_uri": "https://localhost:8080/"
        },
        "outputId": "2317d214-c062-42e8-94d0-b89500107573"
      },
      "execution_count": 9,
      "outputs": [
        {
          "output_type": "stream",
          "name": "stdout",
          "text": [
            "La prima de la opción Call es: 33.3029604824784 y la prima de la opción Put es: 362.5674791074205\n"
          ]
        }
      ]
    },
    {
      "cell_type": "code",
      "source": [
        "BlackScholes(So, Strike, r, vol, t)"
      ],
      "metadata": {
        "colab": {
          "base_uri": "https://localhost:8080/"
        },
        "id": "0jDPXru3dzAV",
        "outputId": "89c0411a-63d4-410c-ecfd-a32b8a629c89"
      },
      "execution_count": 10,
      "outputs": [
        {
          "output_type": "stream",
          "name": "stdout",
          "text": [
            "La prima de la opción Call es: 32.801597683621104 y la prima de la opción Put es: 362.84317302573805\n"
          ]
        }
      ]
    },
    {
      "cell_type": "markdown",
      "source": [
        "Punto 2 | Call Americana"
      ],
      "metadata": {
        "id": "hsUUfUWZlmkB"
      }
    },
    {
      "cell_type": "code",
      "source": [
        "#Parametros iniciales\n",
        "So=float(input(\"Precio spot: \"))\n",
        "Strike=float(input(\"Precio strike: \"))\n",
        "r=float(input(\"Tasa de interes (continua): \"))\n",
        "vol=float(input(\"Volatilidad: \"))\n",
        "t=float(input(\"Tiempo (días): \"))\n",
        "nodos=int(input(\"Nodos: \"))"
      ],
      "metadata": {
        "colab": {
          "base_uri": "https://localhost:8080/"
        },
        "id": "MR5PB-Y0ls4t",
        "outputId": "0eabe851-f6b5-440d-ccfd-641c0a92cb39"
      },
      "execution_count": 11,
      "outputs": [
        {
          "name": "stdout",
          "output_type": "stream",
          "text": [
            "Precio spot: 4000\n",
            "Precio strike: 4000\n",
            "Tasa de interes (continua): 0.065\n",
            "Volatilidad: 0.21\n",
            "Tiempo (días): 150\n",
            "Nodos: 50\n"
          ]
        }
      ]
    },
    {
      "cell_type": "code",
      "source": [
        "call_arbinomial(So, Strike, r, vol, t, nodos)"
      ],
      "metadata": {
        "colab": {
          "base_uri": "https://localhost:8080/"
        },
        "id": "iVu0Ag1Al4oj",
        "outputId": "6902ae2a-ade8-4e6e-d280-cb07506420eb"
      },
      "execution_count": 12,
      "outputs": [
        {
          "output_type": "stream",
          "name": "stdout",
          "text": [
            "La prima de la opción es:  269.8516824866253\n"
          ]
        }
      ]
    },
    {
      "cell_type": "code",
      "source": [
        "montecarlo(So, Strike, r, vol, t, 150000)"
      ],
      "metadata": {
        "colab": {
          "base_uri": "https://localhost:8080/"
        },
        "id": "2Rozp7i7mEGq",
        "outputId": "5c5d8cfa-e377-4921-bb2e-5f4ffe9169b5"
      },
      "execution_count": 14,
      "outputs": [
        {
          "output_type": "stream",
          "name": "stdout",
          "text": [
            "La prima de la opción Call es: 269.8054203456276 y la prima de la opción Put es: 165.3717386823794\n"
          ]
        }
      ]
    },
    {
      "cell_type": "code",
      "source": [
        "BlackScholes(So, Strike, r, vol, t)"
      ],
      "metadata": {
        "colab": {
          "base_uri": "https://localhost:8080/"
        },
        "id": "YxJPWUMwmKyd",
        "outputId": "539d6c57-a3f1-4289-987c-903d01432db6"
      },
      "execution_count": 15,
      "outputs": [
        {
          "output_type": "stream",
          "name": "stdout",
          "text": [
            "La prima de la opción Call es: 268.70298398146923 y la prima de la opción Put es: 163.26814330830993\n"
          ]
        }
      ]
    },
    {
      "cell_type": "markdown",
      "source": [
        "Punto 3 | Put Americana"
      ],
      "metadata": {
        "id": "0ef4xzQGm9U6"
      }
    },
    {
      "cell_type": "code",
      "source": [
        "#Parametros iniciales\n",
        "So=float(input(\"Precio spot: \"))\n",
        "Strike=float(input(\"Precio strike: \"))\n",
        "r=float(input(\"Tasa de interes (continua): \"))\n",
        "vol=float(input(\"Volatilidad: \"))\n",
        "t=float(input(\"Tiempo (días): \"))\n",
        "nodos=int(input(\"Nodos: \"))"
      ],
      "metadata": {
        "colab": {
          "base_uri": "https://localhost:8080/"
        },
        "id": "yevNEK5GnECK",
        "outputId": "2dd9ed54-0230-423c-ff06-acf30328f8b5"
      },
      "execution_count": 40,
      "outputs": [
        {
          "name": "stdout",
          "output_type": "stream",
          "text": [
            "Precio spot: 4000\n",
            "Precio strike: 4060.45\n",
            "Tasa de interes (continua): 0.06\n",
            "Volatilidad: 0.22\n",
            "Tiempo (días): 360\n",
            "Nodos: 100\n"
          ]
        }
      ]
    },
    {
      "cell_type": "code",
      "source": [
        "put_arbinominal(So, Strike, r, vol, t, nodos)"
      ],
      "metadata": {
        "colab": {
          "base_uri": "https://localhost:8080/"
        },
        "id": "2UASnjRgXrak",
        "outputId": "b9c53a3b-c87d-4131-dff1-b16de1d3eabb"
      },
      "execution_count": 41,
      "outputs": [
        {
          "output_type": "stream",
          "name": "stdout",
          "text": [
            "La prima de la opción Put americana es:  291.49193691090727\n"
          ]
        }
      ]
    },
    {
      "cell_type": "code",
      "source": [
        "montecarlo(So, Strike, r, vol, t, 150000)"
      ],
      "metadata": {
        "colab": {
          "base_uri": "https://localhost:8080/"
        },
        "id": "4kTpxiDMy3qv",
        "outputId": "0987f08f-a831-4ed2-a5cf-2bb1933a20a1"
      },
      "execution_count": 42,
      "outputs": [
        {
          "output_type": "stream",
          "name": "stdout",
          "text": [
            "La prima de la opción Call es: 436.9019404915758 y la prima de la opción Put es: 260.9065511735067\n"
          ]
        }
      ]
    },
    {
      "cell_type": "code",
      "source": [
        "BlackScholes(So, Strike, r, vol, t)"
      ],
      "metadata": {
        "colab": {
          "base_uri": "https://localhost:8080/"
        },
        "id": "vv0uhH7HzAGQ",
        "outputId": "04e3e94e-6398-4d7e-cc4d-691a18bdf843"
      },
      "execution_count": 43,
      "outputs": [
        {
          "output_type": "stream",
          "name": "stdout",
          "text": [
            "La prima de la opción Call es: 433.78612554571157 y la prima de la opción Put es: 260.91822160872175\n"
          ]
        }
      ]
    },
    {
      "cell_type": "markdown",
      "source": [
        "Punto 4 | Put Europea"
      ],
      "metadata": {
        "id": "pZzlGh98zaOw"
      }
    },
    {
      "cell_type": "code",
      "source": [
        "#Parametros iniciales\n",
        "So=float(input(\"Precio spot: \"))\n",
        "Strike=float(input(\"Precio strike: \"))\n",
        "r=float(input(\"Tasa de interes (continua): \"))\n",
        "vol=float(input(\"Volatilidad: \"))\n",
        "t=float(input(\"Tiempo (días): \"))\n",
        "nodos=int(input(\"Nodos: \"))"
      ],
      "metadata": {
        "colab": {
          "base_uri": "https://localhost:8080/"
        },
        "id": "kYpYve-hzc1c",
        "outputId": "25373012-a1cd-47ef-c98e-6bd8b7fa2d57"
      },
      "execution_count": 44,
      "outputs": [
        {
          "name": "stdout",
          "output_type": "stream",
          "text": [
            "Precio spot: 4000\n",
            "Precio strike: 4050\n",
            "Tasa de interes (continua): 0.055\n",
            "Volatilidad: 0.19\n",
            "Tiempo (días): 120\n",
            "Nodos: 40\n"
          ]
        }
      ]
    },
    {
      "cell_type": "code",
      "source": [
        "put_arbinomial_eur(So, Strike, r, vol, t, nodos)"
      ],
      "metadata": {
        "colab": {
          "base_uri": "https://localhost:8080/"
        },
        "id": "qwi0ex8KzmF3",
        "outputId": "d6d184f3-2869-4d1d-fb7c-fff8866ea7e5"
      },
      "execution_count": 45,
      "outputs": [
        {
          "output_type": "stream",
          "name": "stdout",
          "text": [
            "La prima de la opción es:  163.78152405868877\n"
          ]
        }
      ]
    },
    {
      "cell_type": "code",
      "source": [
        "montecarlo(So, Strike, r, vol, t, 150000)"
      ],
      "metadata": {
        "colab": {
          "base_uri": "https://localhost:8080/"
        },
        "id": "hm1NJtY8zqYS",
        "outputId": "5981d110-fc7d-4fcd-f0b8-02432278e5b4"
      },
      "execution_count": 46,
      "outputs": [
        {
          "output_type": "stream",
          "name": "stdout",
          "text": [
            "La prima de la opción Call es: 186.61348226856094 y la prima de la opción Put es: 162.84409795581732\n"
          ]
        }
      ]
    },
    {
      "cell_type": "code",
      "source": [
        "BlackScholes(So, Strike, r, vol, t)"
      ],
      "metadata": {
        "colab": {
          "base_uri": "https://localhost:8080/"
        },
        "id": "d8w2-8qMzyRV",
        "outputId": "2fa194ba-1fd8-4474-860a-714c6a01b040"
      },
      "execution_count": 47,
      "outputs": [
        {
          "output_type": "stream",
          "name": "stdout",
          "text": [
            "La prima de la opción Call es: 184.79190768064785 y la prima de la opción Put es: 162.2171636317979\n"
          ]
        }
      ]
    },
    {
      "cell_type": "markdown",
      "source": [
        "Punto 5 | Call Europea"
      ],
      "metadata": {
        "id": "43antzcqz6MF"
      }
    },
    {
      "cell_type": "code",
      "source": [
        "#Parametros iniciales\n",
        "So=float(input(\"Precio spot: \"))\n",
        "Strike=float(input(\"Precio strike: \"))\n",
        "r=float(input(\"Tasa de interes (continua): \"))\n",
        "vol=float(input(\"Volatilidad: \"))\n",
        "t=float(input(\"Tiempo (días): \"))\n",
        "nodos=int(input(\"Nodos: \"))"
      ],
      "metadata": {
        "colab": {
          "base_uri": "https://localhost:8080/"
        },
        "id": "uVYmrAAjz9AH",
        "outputId": "a8c9b3bb-7db0-4414-bf4a-4f828ebdeeab"
      },
      "execution_count": 48,
      "outputs": [
        {
          "name": "stdout",
          "output_type": "stream",
          "text": [
            "Precio spot: 4050\n",
            "Precio strike: 4020\n",
            "Tasa de interes (continua): 0.0625\n",
            "Volatilidad: 0.18\n",
            "Tiempo (días): 120\n",
            "Nodos: 40\n"
          ]
        }
      ]
    },
    {
      "cell_type": "code",
      "source": [
        "call_arbinomial(So, Strike, r, vol, t, nodos)"
      ],
      "metadata": {
        "colab": {
          "base_uri": "https://localhost:8080/"
        },
        "id": "lwdSBm770Gc2",
        "outputId": "6705e964-5ee7-4f7a-b6bc-3b084fdb9692"
      },
      "execution_count": 49,
      "outputs": [
        {
          "output_type": "stream",
          "name": "stdout",
          "text": [
            "La prima de la opción es:  228.3607143233863\n"
          ]
        }
      ]
    },
    {
      "cell_type": "code",
      "source": [
        "montecarlo(So, Strike, r, vol, t, 150000)"
      ],
      "metadata": {
        "colab": {
          "base_uri": "https://localhost:8080/"
        },
        "id": "w-ZnNAMT0NhB",
        "outputId": "e7e50f24-91d3-422f-c686-1d611f95a4ea"
      },
      "execution_count": 50,
      "outputs": [
        {
          "output_type": "stream",
          "name": "stdout",
          "text": [
            "La prima de la opción Call es: 227.17377106525953 y la prima de la opción Put es: 115.25009167787643\n"
          ]
        }
      ]
    },
    {
      "cell_type": "code",
      "source": [
        "BlackScholes(So, Strike, r, vol, t)"
      ],
      "metadata": {
        "colab": {
          "base_uri": "https://localhost:8080/"
        },
        "id": "l-QNWJFl0S5N",
        "outputId": "787c98ed-5c76-4137-9de5-7234f47b756c"
      },
      "execution_count": 51,
      "outputs": [
        {
          "output_type": "stream",
          "name": "stdout",
          "text": [
            "La prima de la opción Call es: 226.26167291914624 y la prima de la opción Put es: 114.50180848760765\n"
          ]
        }
      ]
    },
    {
      "cell_type": "markdown",
      "source": [
        "Punto 6 | Call Europea"
      ],
      "metadata": {
        "id": "jwKteBH30i9i"
      }
    },
    {
      "cell_type": "code",
      "source": [
        "#Parametros iniciales\n",
        "So=float(input(\"Precio spot: \"))\n",
        "Strike=float(input(\"Precio strike: \"))\n",
        "r=float(input(\"Tasa de interes (continua): \"))\n",
        "vol=float(input(\"Volatilidad: \"))\n",
        "t=float(input(\"Tiempo (días): \"))\n",
        "nodos=int(input(\"Nodos: \"))"
      ],
      "metadata": {
        "colab": {
          "base_uri": "https://localhost:8080/"
        },
        "id": "SF5C1Wvf0iWI",
        "outputId": "05db39bf-293f-4269-d3cc-9e8fd892f9c3"
      },
      "execution_count": 52,
      "outputs": [
        {
          "name": "stdout",
          "output_type": "stream",
          "text": [
            "Precio spot: 4050\n",
            "Precio strike: 4111.21\n",
            "Tasa de interes (continua): 0.0675\n",
            "Volatilidad: 0.17\n",
            "Tiempo (días): 360\n",
            "Nodos: 100\n"
          ]
        }
      ]
    },
    {
      "cell_type": "code",
      "source": [
        "call_arbinomial(So, Strike, r, vol, t, nodos)"
      ],
      "metadata": {
        "colab": {
          "base_uri": "https://localhost:8080/"
        },
        "id": "frAYnXY90ySq",
        "outputId": "b58b72e6-f400-48bb-ed77-3c6be24cc940"
      },
      "execution_count": 53,
      "outputs": [
        {
          "output_type": "stream",
          "name": "stdout",
          "text": [
            "La prima de la opción es:  384.0109151789004\n"
          ]
        }
      ]
    },
    {
      "cell_type": "code",
      "source": [
        "montecarlo(So, Strike, r, vol, t, 150000)"
      ],
      "metadata": {
        "colab": {
          "base_uri": "https://localhost:8080/"
        },
        "id": "1zzfveV200_w",
        "outputId": "25ca7ced-960b-4583-c00b-8a23025ba657"
      },
      "execution_count": 54,
      "outputs": [
        {
          "output_type": "stream",
          "name": "stdout",
          "text": [
            "La prima de la opción Call es: 383.4126598142115 y la prima de la opción Put es: 175.6143961092718\n"
          ]
        }
      ]
    },
    {
      "cell_type": "code",
      "source": [
        "BlackScholes(So, Strike, r, vol, t)"
      ],
      "metadata": {
        "colab": {
          "base_uri": "https://localhost:8080/"
        },
        "id": "Fd-6dB5s029D",
        "outputId": "cd0aafce-1bb6-4058-8a72-5f2d94e9ca63"
      },
      "execution_count": 55,
      "outputs": [
        {
          "output_type": "stream",
          "name": "stdout",
          "text": [
            "La prima de la opción Call es: 379.66914832619483 y la prima de la opción Put es: 176.08607517097434\n"
          ]
        }
      ]
    },
    {
      "cell_type": "markdown",
      "source": [
        "Punto 7 | Put Europea"
      ],
      "metadata": {
        "id": "JqeqVcD80-tM"
      }
    },
    {
      "cell_type": "code",
      "source": [
        "#Parametros iniciales\n",
        "So=float(input(\"Precio spot: \"))\n",
        "Strike=float(input(\"Precio strike: \"))\n",
        "r=float(input(\"Tasa de interes (continua): \"))\n",
        "vol=float(input(\"Volatilidad: \"))\n",
        "t=float(input(\"Tiempo (días): \"))\n",
        "nodos=int(input(\"Nodos: \"))"
      ],
      "metadata": {
        "colab": {
          "base_uri": "https://localhost:8080/"
        },
        "id": "5679qHVJ1A57",
        "outputId": "b3ea6573-e3c3-498d-bee5-9681139eba9c"
      },
      "execution_count": 56,
      "outputs": [
        {
          "name": "stdout",
          "output_type": "stream",
          "text": [
            "Precio spot: 4050\n",
            "Precio strike: 4075\n",
            "Tasa de interes (continua): 0.07\n",
            "Volatilidad: 0.15\n",
            "Tiempo (días): 90\n",
            "Nodos: 12\n"
          ]
        }
      ]
    },
    {
      "cell_type": "code",
      "source": [
        "put_arbinomial_eur(So, Strike, r, vol, t, nodos)"
      ],
      "metadata": {
        "colab": {
          "base_uri": "https://localhost:8080/"
        },
        "id": "N2uPakl41ON_",
        "outputId": "aad4dd04-277d-4a46-9d06-3777d09a740f"
      },
      "execution_count": 59,
      "outputs": [
        {
          "output_type": "stream",
          "name": "stdout",
          "text": [
            "La prima de la opción es:  98.81543577691117\n"
          ]
        }
      ]
    },
    {
      "cell_type": "code",
      "source": [
        "montecarlo(So, Strike, r, vol, t, 150000)"
      ],
      "metadata": {
        "colab": {
          "base_uri": "https://localhost:8080/"
        },
        "id": "H83cXJMa1Qk3",
        "outputId": "b3549236-bb45-4f5f-9737-72feb4002b2b"
      },
      "execution_count": 58,
      "outputs": [
        {
          "output_type": "stream",
          "name": "stdout",
          "text": [
            "La prima de la opción Call es: 144.9728915878707 y la prima de la opción Put es: 98.59897511269305\n"
          ]
        }
      ]
    },
    {
      "cell_type": "code",
      "source": [
        "BlackScholes(So, Strike, r, vol, t)"
      ],
      "metadata": {
        "colab": {
          "base_uri": "https://localhost:8080/"
        },
        "id": "mCKPUORf1buN",
        "outputId": "eab53945-597f-4cd5-946d-fe37266183c1"
      },
      "execution_count": 60,
      "outputs": [
        {
          "output_type": "stream",
          "name": "stdout",
          "text": [
            "La prima de la opción Call es: 143.34673187305032 y la prima de la opción Put es: 98.61464409417248\n"
          ]
        }
      ]
    },
    {
      "cell_type": "markdown",
      "source": [
        "Punto 8 | Put Americana"
      ],
      "metadata": {
        "id": "alyaO8h11hZw"
      }
    },
    {
      "cell_type": "code",
      "source": [
        "#Parametros iniciales\n",
        "So=float(input(\"Precio spot: \"))\n",
        "Strike=float(input(\"Precio strike: \"))\n",
        "r=float(input(\"Tasa de interes (continua): \"))\n",
        "vol=float(input(\"Volatilidad: \"))\n",
        "t=float(input(\"Tiempo (días): \"))\n",
        "nodos=int(input(\"Nodos: \"))"
      ],
      "metadata": {
        "colab": {
          "base_uri": "https://localhost:8080/"
        },
        "id": "DQfoAoVr1nAy",
        "outputId": "dba8b1bb-6293-46e5-fe6f-f2b492c7a086"
      },
      "execution_count": 61,
      "outputs": [
        {
          "name": "stdout",
          "output_type": "stream",
          "text": [
            "Precio spot: 4050\n",
            "Precio strike: 4050\n",
            "Tasa de interes (continua): 0.0725\n",
            "Volatilidad: 0.195\n",
            "Tiempo (días): 150\n",
            "Nodos: 50\n"
          ]
        }
      ]
    },
    {
      "cell_type": "code",
      "source": [
        "put_arbinominal(So, Strike, r, vol, t, nodos)"
      ],
      "metadata": {
        "colab": {
          "base_uri": "https://localhost:8080/"
        },
        "id": "2AbwMVVR1xVv",
        "outputId": "6ea1f329-3bd1-46ba-e5b5-e8b7077bb0fb"
      },
      "execution_count": 62,
      "outputs": [
        {
          "output_type": "stream",
          "name": "stdout",
          "text": [
            "La prima de la opción Put americana es:  157.30533078033955\n"
          ]
        }
      ]
    },
    {
      "cell_type": "code",
      "source": [
        "montecarlo(So, Strike, r, vol, t, 150000)"
      ],
      "metadata": {
        "colab": {
          "base_uri": "https://localhost:8080/"
        },
        "id": "ZpR2kKUM117z",
        "outputId": "ad5e0a49-f2c6-4fd1-eae8-81e42af3ffad"
      },
      "execution_count": 63,
      "outputs": [
        {
          "output_type": "stream",
          "name": "stdout",
          "text": [
            "La prima de la opción Call es: 267.25963885863706 y la prima de la opción Put es: 144.67527059902835\n"
          ]
        }
      ]
    },
    {
      "cell_type": "code",
      "source": [
        "BlackScholes(So, Strike, r, vol, t)"
      ],
      "metadata": {
        "colab": {
          "base_uri": "https://localhost:8080/"
        },
        "id": "zz5u6tga14RF",
        "outputId": "20ecc9b6-7e8c-475d-91fb-d174cd206a6e"
      },
      "execution_count": 64,
      "outputs": [
        {
          "output_type": "stream",
          "name": "stdout",
          "text": [
            "La prima de la opción Call es: 263.9400958702114 y la prima de la opción Put es: 145.05218651638089\n"
          ]
        }
      ]
    }
  ]
}